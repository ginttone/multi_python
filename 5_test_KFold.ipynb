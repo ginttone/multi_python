{
  "nbformat": 4,
  "nbformat_minor": 0,
  "metadata": {
    "colab": {
      "name": "5_test_KFold.ipynb",
      "provenance": [],
      "authorship_tag": "ABX9TyPlGrh6vCmgQoaJ1SI1uFVI",
      "include_colab_link": true
    },
    "kernelspec": {
      "name": "python3",
      "display_name": "Python 3"
    },
    "language_info": {
      "name": "python"
    }
  },
  "cells": [
    {
      "cell_type": "markdown",
      "metadata": {
        "id": "view-in-github",
        "colab_type": "text"
      },
      "source": [
        "<a href=\"https://colab.research.google.com/github/ginttone/multi_python/blob/master/5_test_KFold.ipynb\" target=\"_parent\"><img src=\"https://colab.research.google.com/assets/colab-badge.svg\" alt=\"Open In Colab\"/></a>"
      ]
    },
    {
      "cell_type": "markdown",
      "metadata": {
        "id": "j1Nll2ipynMf"
      },
      "source": [
        "KFold<br> \n",
        "내가 넣은 숫자만큼 쪼개줌\n",
        "\n",
        "class sklearn.model_selection.KFold(n_splits=5, *, shuffle=False, random_state=None)\n",
        "\n",
        "X.shape#feature , y.shape #label"
      ]
    },
    {
      "cell_type": "code",
      "metadata": {
        "colab": {
          "base_uri": "https://localhost:8080/"
        },
        "id": "JvQFNSKPxciN",
        "outputId": "d6f2deba-de56-4d0e-d649-d5d03d87f6ee"
      },
      "source": [
        "import numpy as np\n",
        "X = np.array([[1, 2], [3, 4], [1, 2], [3, 4],[5,6],[7,8],[9,10]])\n",
        "y = np.array([1, 2, 3, 4, 2, 3, 1])\n",
        "X.shape , y.shape "
      ],
      "execution_count": 6,
      "outputs": [
        {
          "output_type": "execute_result",
          "data": {
            "text/plain": [
              "((7, 2), (7,))"
            ]
          },
          "metadata": {
            "tags": []
          },
          "execution_count": 6
        }
      ]
    },
    {
      "cell_type": "code",
      "metadata": {
        "colab": {
          "base_uri": "https://localhost:8080/"
        },
        "id": "EAgHLZyn0BtK",
        "outputId": "3689e718-ab5f-40d1-ee09-226d0a5d75ef"
      },
      "source": [
        "from sklearn.model_selection import KFold\n",
        "KF= KFold(n_splits=2,shuffle=True)\n",
        "KF.get_n_splits(X)"
      ],
      "execution_count": 12,
      "outputs": [
        {
          "output_type": "execute_result",
          "data": {
            "text/plain": [
              "2"
            ]
          },
          "metadata": {
            "tags": []
          },
          "execution_count": 12
        }
      ]
    },
    {
      "cell_type": "markdown",
      "metadata": {
        "id": "kWUQk-rD19OY"
      },
      "source": [
        "실제 데이터 넣어서 스플릿 해보기\n",
        "\n",
        "결과: np.array 한 행의 위치값이 나온 것 \n"
      ]
    },
    {
      "cell_type": "code",
      "metadata": {
        "colab": {
          "base_uri": "https://localhost:8080/"
        },
        "id": "d2M4zwFI0wgc",
        "outputId": "2b029ccf-6b13-4395-9f60-66a208630488"
      },
      "source": [
        "for first, second in KF.split(X):\n",
        "  print(first,':',second)\n",
        "  "
      ],
      "execution_count": 15,
      "outputs": [
        {
          "output_type": "stream",
          "text": [
            "[0 2 5] : [1 3 4 6]\n",
            "[1 3 4 6] : [0 2 5]\n"
          ],
          "name": "stdout"
        }
      ]
    },
    {
      "cell_type": "markdown",
      "metadata": {
        "id": "Abj_J6NZ3Gd9"
      },
      "source": [
        "데이터에 의한 쏠림을 줄여주려고 만듬\n",
        "(overfit 줄이고자)\n",
        "\n",
        "중복 안되게 서로 섞어진 것을 확인 가능"
      ]
    },
    {
      "cell_type": "code",
      "metadata": {
        "colab": {
          "base_uri": "https://localhost:8080/"
        },
        "id": "m-d-RJ1P1Dct",
        "outputId": "05253e6e-9020-4566-d2d0-819e8c510cd3"
      },
      "source": [
        "KF= KFold(n_splits=3,shuffle=True)\n",
        "KF.get_n_splits(X)\n",
        "\n",
        "for first, second in KF.split(X):\n",
        "  print(first,':',second)\n"
      ],
      "execution_count": 17,
      "outputs": [
        {
          "output_type": "stream",
          "text": [
            "[2 4 5 6] : [0 1 3]\n",
            "[0 1 3 4 6] : [2 5]\n",
            "[0 1 2 3 5] : [4 6]\n"
          ],
          "name": "stdout"
        }
      ]
    },
    {
      "cell_type": "markdown",
      "metadata": {
        "id": "vhg6Zg823loN"
      },
      "source": [
        "mask씌우면 해당 값 찾을수 있어\n",
        "\n",
        "first,second의 type은 np.ndarray로 되있음\n",
        "\n",
        "shape은 (5,)(2,)"
      ]
    },
    {
      "cell_type": "code",
      "metadata": {
        "colab": {
          "base_uri": "https://localhost:8080/"
        },
        "id": "_vhpVHmG2-E4",
        "outputId": "e7d4c033-7816-4843-e5bb-6bd9a283ca5d"
      },
      "source": [
        "for first, second in KF.split(X):\n",
        "  print(first,':',second)\n",
        "  print('---------')\n",
        "  x_train=X[first]\n",
        "  print(x_train)\n",
        "  print('---------')\n",
        "  x_test = X[second]\n",
        "  print(x_test)"
      ],
      "execution_count": 24,
      "outputs": [
        {
          "output_type": "stream",
          "text": [
            "[0 1 3 5] : [2 4 6]\n",
            "---------\n",
            "[[1 2]\n",
            " [3 4]\n",
            " [3 4]\n",
            " [7 8]]\n",
            "---------\n",
            "[[ 1  2]\n",
            " [ 5  6]\n",
            " [ 9 10]]\n",
            "[0 2 3 4 6] : [1 5]\n",
            "---------\n",
            "[[ 1  2]\n",
            " [ 1  2]\n",
            " [ 3  4]\n",
            " [ 5  6]\n",
            " [ 9 10]]\n",
            "---------\n",
            "[[3 4]\n",
            " [7 8]]\n",
            "[1 2 4 5 6] : [0 3]\n",
            "---------\n",
            "[[ 3  4]\n",
            " [ 1  2]\n",
            " [ 5  6]\n",
            " [ 7  8]\n",
            " [ 9 10]]\n",
            "---------\n",
            "[[1 2]\n",
            " [3 4]]\n"
          ],
          "name": "stdout"
        }
      ]
    },
    {
      "cell_type": "code",
      "metadata": {
        "id": "2YBTkUiw3x72"
      },
      "source": [
        ""
      ],
      "execution_count": null,
      "outputs": []
    }
  ]
}