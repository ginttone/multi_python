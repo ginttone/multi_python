{
  "nbformat": 4,
  "nbformat_minor": 0,
  "metadata": {
    "colab": {
      "name": "3_python_language.ipynb",
      "provenance": [],
      "authorship_tag": "ABX9TyPY4Kcz5+HE0Oxp1gJP4iFM",
      "include_colab_link": true
    },
    "kernelspec": {
      "name": "python3",
      "display_name": "Python 3"
    },
    "language_info": {
      "name": "python"
    }
  },
  "cells": [
    {
      "cell_type": "markdown",
      "metadata": {
        "id": "view-in-github",
        "colab_type": "text"
      },
      "source": [
        "<a href=\"https://colab.research.google.com/github/ginttone/multi_python/blob/master/3_python_language.ipynb\" target=\"_parent\"><img src=\"https://colab.research.google.com/assets/colab-badge.svg\" alt=\"Open In Colab\"/></a>"
      ]
    },
    {
      "cell_type": "code",
      "metadata": {
        "id": "jgZy3quzTmvC"
      },
      "source": [
        "# hard coding: 4 * 3 (유연성이 부족한 코딩)\n",
        "# soft coding:  first=4; second=3; first + second (변수만들어서 연산하는 방법)"
      ],
      "execution_count": null,
      "outputs": []
    },
    {
      "cell_type": "code",
      "metadata": {
        "id": "ukrcPVYlVZIj"
      },
      "source": [
        "import numpy as np"
      ],
      "execution_count": 31,
      "outputs": []
    },
    {
      "cell_type": "code",
      "metadata": {
        "id": "DYB15zJyVpvM"
      },
      "source": [
        "displacement=307.0\n",
        "horsepower=130.0\n",
        "weight=3504.0\n",
        "accel=12.0\n",
        "cylinders= 8\n",
        "origin=1\n",
        "\n",
        "#if cylinders == 3:, origin=1 -> onehot encoding\n",
        "import numpy as np\n",
        "\n",
        "if cylinders == 3:\n",
        "  cylinder=np.array([1,0,0,0,0])\n",
        "elif cylinders ==4:\n",
        "  cylinder=np.array([0,1,0,0,0])\n",
        "elif cylinders == 5:\n",
        "  cylinder=np.array([0,0,1,0,0])\n",
        "elif cylinders == 6:\n",
        "  cylinder=np.array([0,0,0,1,0])\n",
        "else:\n",
        "  cylinder=np.array([0,0,0,0,1])\n",
        "\n",
        "# hard coding\n",
        "# x_continus =np.array([displacement,horsepower,weight,accel])\n",
        "# cylinder=np.array([0,0,0,0,1]) # 8 로 지정했을때\n",
        "# org=np.array([1,0,0]) # 1 로 지정했을때\n",
        "\n",
        "#soft coding\n",
        "x_continus =np.array([displacement,horsepower,weight,accel])\n",
        "org=np.array([1,0,0]) "
      ],
      "execution_count": 32,
      "outputs": []
    },
    {
      "cell_type": "code",
      "metadata": {
        "colab": {
          "base_uri": "https://localhost:8080/"
        },
        "id": "bfm9q313hMPJ",
        "outputId": "c0d3fb30-1567-4c6d-d00e-8c131814b0ad"
      },
      "source": [
        "cylinder"
      ],
      "execution_count": 33,
      "outputs": [
        {
          "output_type": "execute_result",
          "data": {
            "text/plain": [
              "array([0, 0, 0, 0, 1])"
            ]
          },
          "metadata": {
            "tags": []
          },
          "execution_count": 33
        }
      ]
    },
    {
      "cell_type": "code",
      "metadata": {
        "colab": {
          "base_uri": "https://localhost:8080/"
        },
        "id": "PuYAuG1wXTPA",
        "outputId": "0ff452d4-e661-4b6f-db1f-37804c94c216"
      },
      "source": [
        "type(x_continus),type(cylinder),type(org)"
      ],
      "execution_count": 34,
      "outputs": [
        {
          "output_type": "execute_result",
          "data": {
            "text/plain": [
              "(numpy.ndarray, numpy.ndarray, numpy.ndarray)"
            ]
          },
          "metadata": {
            "tags": []
          },
          "execution_count": 34
        }
      ]
    },
    {
      "cell_type": "code",
      "metadata": {
        "colab": {
          "base_uri": "https://localhost:8080/"
        },
        "id": "ircarOzrXY3s",
        "outputId": "ba4adfa4-a0e3-4511-c5e9-c60a2701c3bf"
      },
      "source": [
        "# e는 승수+2(소숫점이 두칸 오른쪽 이동)\n",
        "# np.concatenate((a, b), axis=None)\n",
        "result= np.concatenate((x_continus,cylinder,org), axis=None)\n",
        "result.shape,result "
      ],
      "execution_count": 35,
      "outputs": [
        {
          "output_type": "execute_result",
          "data": {
            "text/plain": [
              "((12,),\n",
              " array([3.070e+02, 1.300e+02, 3.504e+03, 1.200e+01, 0.000e+00, 0.000e+00,\n",
              "        0.000e+00, 0.000e+00, 1.000e+00, 1.000e+00, 0.000e+00, 0.000e+00]))"
            ]
          },
          "metadata": {
            "tags": []
          },
          "execution_count": 35
        }
      ]
    },
    {
      "cell_type": "markdown",
      "metadata": {
        "id": "iQu6xYXshkZ3"
      },
      "source": [
        "- hard coding <br>\n",
        "result.reshape(1,12)"
      ]
    },
    {
      "cell_type": "code",
      "metadata": {
        "colab": {
          "base_uri": "https://localhost:8080/"
        },
        "id": "cBNMoMydbARv",
        "outputId": "2938c2bb-5ea5-4547-8830-c79075ba3d5d"
      },
      "source": [
        "# soft coding : 열의 값을 유동성있게 주기 ! \n",
        "result = result.reshape(-1, result.size)\n",
        "result, result.shape"
      ],
      "execution_count": 36,
      "outputs": [
        {
          "output_type": "execute_result",
          "data": {
            "text/plain": [
              "(array([[3.070e+02, 1.300e+02, 3.504e+03, 1.200e+01, 0.000e+00, 0.000e+00,\n",
              "         0.000e+00, 0.000e+00, 1.000e+00, 1.000e+00, 0.000e+00, 0.000e+00]]),\n",
              " (1, 12))"
            ]
          },
          "metadata": {
            "tags": []
          },
          "execution_count": 36
        }
      ]
    },
    {
      "cell_type": "markdown",
      "metadata": {
        "id": "43IDLbZkipxA"
      },
      "source": [
        "# function 의 이해"
      ]
    },
    {
      "cell_type": "code",
      "metadata": {
        "colab": {
          "base_uri": "https://localhost:8080/"
        },
        "id": "0p7ivQQ-h9N5",
        "outputId": "a0edc460-ac59-453a-fbc8-48bfa7b08bd3"
      },
      "source": [
        "21 + 14"
      ],
      "execution_count": 37,
      "outputs": [
        {
          "output_type": "execute_result",
          "data": {
            "text/plain": [
              "35"
            ]
          },
          "metadata": {
            "tags": []
          },
          "execution_count": 37
        }
      ]
    },
    {
      "cell_type": "code",
      "metadata": {
        "colab": {
          "base_uri": "https://localhost:8080/"
        },
        "id": "hqYiXmywbW5v",
        "outputId": "db8eaff9-7811-4c28-b11f-7d2649b1a60f"
      },
      "source": [
        "32 + 45"
      ],
      "execution_count": 38,
      "outputs": [
        {
          "output_type": "execute_result",
          "data": {
            "text/plain": [
              "77"
            ]
          },
          "metadata": {
            "tags": []
          },
          "execution_count": 38
        }
      ]
    },
    {
      "cell_type": "markdown",
      "metadata": {
        "id": "Z1tFT397lj2E"
      },
      "source": [
        "first= 32<br>\n",
        "second = 45<br>\n",
        "result= first + second<br>\n",
        "result<br>"
      ]
    },
    {
      "cell_type": "code",
      "metadata": {
        "id": "JA4iAyPCi5AZ"
      },
      "source": [
        "#function : 나 잠재적으로 돌아갈 준비 되었어\n",
        "def sum(): # 이름지정sum 해주고 파라매터() 지정은 자유로이 할 수 있어\n",
        "  first= 32  \n",
        "  second = 45\n",
        "  result= first + second\n",
        "  return result #나를 호출하면 니가 예상했던대로 동작 후 동작 끝난 결과 값을 줄게"
      ],
      "execution_count": 44,
      "outputs": []
    },
    {
      "cell_type": "code",
      "metadata": {
        "colab": {
          "base_uri": "https://localhost:8080/"
        },
        "id": "DPB_xD17jILe",
        "outputId": "e2c00953-38e3-452e-8267-55e99118da56"
      },
      "source": [
        "sum()"
      ],
      "execution_count": 45,
      "outputs": [
        {
          "output_type": "execute_result",
          "data": {
            "text/plain": [
              "77"
            ]
          },
          "metadata": {
            "tags": []
          },
          "execution_count": 45
        }
      ]
    },
    {
      "cell_type": "code",
      "metadata": {
        "id": "okxN34z0m_k9"
      },
      "source": [
        "# function에 parameter (f,s) , `?`값 넣어줌\n",
        "# 변수는 순서로 인지하지 않고 이름으로 인지한다.\n",
        "# 단순변수\n",
        "def sum(f,s):\n",
        "  first= s  \n",
        "  second = f\n",
        "  result= first + second\n",
        "  return result,second,first #순서를 받기 위해 순서를 지정한다"
      ],
      "execution_count": 64,
      "outputs": []
    },
    {
      "cell_type": "code",
      "metadata": {
        "colab": {
          "base_uri": "https://localhost:8080/"
        },
        "id": "TdNZ3pTMo-NZ",
        "outputId": "bed0c52c-b66e-45fd-bb38-824c170eb0ae"
      },
      "source": [
        "sum(4,5)"
      ],
      "execution_count": 50,
      "outputs": [
        {
          "output_type": "execute_result",
          "data": {
            "text/plain": [
              "9"
            ]
          },
          "metadata": {
            "tags": []
          },
          "execution_count": 50
        }
      ]
    },
    {
      "cell_type": "code",
      "metadata": {
        "id": "hQaQSaAbw-8h"
      },
      "source": [
        "#조종하기 위해 변수에 담는다\n",
        "r= sum(4,5)\n",
        "r"
      ],
      "execution_count": null,
      "outputs": []
    },
    {
      "cell_type": "code",
      "metadata": {
        "colab": {
          "base_uri": "https://localhost:8080/"
        },
        "id": "1eFsZMBRvj5D",
        "outputId": "4fc362ac-96b1-4cf9-be4e-9f9110d77f3e"
      },
      "source": [
        "# `_`변수는 리턴값을 사용하지 않을 때 사용\n",
        "_, r02, r03 = sum(20,5) \n",
        "print(r02,r03)"
      ],
      "execution_count": 66,
      "outputs": [
        {
          "output_type": "stream",
          "text": [
            "20 5\n"
          ],
          "name": "stdout"
        }
      ]
    },
    {
      "cell_type": "code",
      "metadata": {
        "id": "U48p2JK4pCXL"
      },
      "source": [
        "def multi(a,b,c):\n",
        "  one= a\n",
        "  two = b\n",
        "  three = c\n",
        "  result = one*two*three\n",
        "  return result"
      ],
      "execution_count": 55,
      "outputs": []
    },
    {
      "cell_type": "code",
      "metadata": {
        "colab": {
          "base_uri": "https://localhost:8080/"
        },
        "id": "cB8J2xnHtts7",
        "outputId": "50d1688b-65fa-45cb-d801-edc08ea47377"
      },
      "source": [
        "multi(21,32,2), multi(31,63,41)"
      ],
      "execution_count": 53,
      "outputs": [
        {
          "output_type": "execute_result",
          "data": {
            "text/plain": [
              "(1344, 80073)"
            ]
          },
          "metadata": {
            "tags": []
          },
          "execution_count": 53
        }
      ]
    },
    {
      "cell_type": "code",
      "metadata": {
        "id": "y0wiI7D2tw83"
      },
      "source": [
        "# def differenceVars(*var01, **args02)\n",
        "def difparam(*var_list, **var_dict) : # 이 파라메터에 *는 list,**는 dictinary\n",
        "  print(var_dict) # 프린트만시킴\n",
        "  result01 = len(var_list)\n",
        "  return result01"
      ],
      "execution_count": 69,
      "outputs": []
    },
    {
      "cell_type": "markdown",
      "metadata": {
        "id": "-88V1eLw0ZCQ"
      },
      "source": [
        " * 리스트는 순서가 중요해 첫번째들어온값1, 두번째들어온값2,..,다섯번째들어온 값은 6이 됨"
      ]
    },
    {
      "cell_type": "code",
      "metadata": {
        "colab": {
          "base_uri": "https://localhost:8080/"
        },
        "id": "PNQx_4scy6jo",
        "outputId": "900ff009-340b-48d8-dcbd-80a87d5c6246"
      },
      "source": [
        "difparam(1,2,3,5,6,c=5,d=6,a=2,b=4)"
      ],
      "execution_count": 71,
      "outputs": [
        {
          "output_type": "stream",
          "text": [
            "{'c': 5, 'd': 6, 'a': 2, 'b': 4}\n"
          ],
          "name": "stdout"
        },
        {
          "output_type": "execute_result",
          "data": {
            "text/plain": [
              "5"
            ]
          },
          "metadata": {
            "tags": []
          },
          "execution_count": 71
        }
      ]
    },
    {
      "cell_type": "markdown",
      "metadata": {
        "id": "BtCPfmWH1pAa"
      },
      "source": [
        "### function 만들기\n",
        "1. function name 설정: 소통변수 무엇으로 하지?\n",
        "2. 내부 어떻게 동작 해야해?\n",
        "3. returen 결과값\n",
        "\n",
        "연습\n",
        "1. onehotcylinder(cylinders)\n",
        "2. 1차원 행렬(onehot encoding)\n",
        "3. if"
      ]
    },
    {
      "cell_type": "code",
      "metadata": {
        "id": "MjjXJeg-zlGJ"
      },
      "source": [
        "\n",
        "def onehotcylinder(cylinders):  \n",
        "  if cylinders == 3:\n",
        "    cylinder=np.array([1,0,0,0,0])\n",
        "  elif cylinders ==4:\n",
        "    cylinder=np.array([0,1,0,0,0])\n",
        "  elif cylinders == 5:\n",
        "    cylinder=np.array([0,0,1,0,0])\n",
        "  elif cylinders == 6:\n",
        "    cylinder=np.array([0,0,0,1,0])\n",
        "  else:\n",
        "    cylinder=np.array([0,0,0,0,1])\n",
        "  return cylinder\n"
      ],
      "execution_count": 72,
      "outputs": []
    },
    {
      "cell_type": "code",
      "metadata": {
        "colab": {
          "base_uri": "https://localhost:8080/"
        },
        "id": "Ooe_Oaoo28J4",
        "outputId": "90d66c35-41f1-4d86-9332-d8f35df91e8d"
      },
      "source": [
        "onehotcylinder(4)"
      ],
      "execution_count": 78,
      "outputs": [
        {
          "output_type": "execute_result",
          "data": {
            "text/plain": [
              "array([0, 1, 0, 0, 0])"
            ]
          },
          "metadata": {
            "tags": []
          },
          "execution_count": 78
        }
      ]
    },
    {
      "cell_type": "code",
      "metadata": {
        "id": "j4FdEq4U2_bT"
      },
      "source": [
        "displacement=307.0\n",
        "horsepower=130.0\n",
        "weight=3504.0\n",
        "accel=12.0\n",
        "cylinders= 8\n",
        "origin=1\n",
        "\n",
        "x_continus =np.array([displacement,horsepower,weight,accel])\n",
        "cylinder= onehotcylinder(cylinders)\n",
        "org=np.array([1,0,0]) "
      ],
      "execution_count": 79,
      "outputs": []
    },
    {
      "cell_type": "code",
      "metadata": {
        "colab": {
          "base_uri": "https://localhost:8080/"
        },
        "id": "0AWwB9v135tX",
        "outputId": "e97dc2ea-6074-4d93-978f-b41cd07e7917"
      },
      "source": [
        "result= np.concatenate((x_continus,cylinder,org), axis=None)\n",
        "result.shape,result "
      ],
      "execution_count": 80,
      "outputs": [
        {
          "output_type": "execute_result",
          "data": {
            "text/plain": [
              "((12,),\n",
              " array([3.070e+02, 1.300e+02, 3.504e+03, 1.200e+01, 0.000e+00, 0.000e+00,\n",
              "        0.000e+00, 0.000e+00, 1.000e+00, 1.000e+00, 0.000e+00, 0.000e+00]))"
            ]
          },
          "metadata": {
            "tags": []
          },
          "execution_count": 80
        }
      ]
    },
    {
      "cell_type": "code",
      "metadata": {
        "colab": {
          "base_uri": "https://localhost:8080/"
        },
        "id": "TGJMv-zj4IPN",
        "outputId": "246f6dfa-257a-4448-b8f9-fb148eab288d"
      },
      "source": [
        "result = result.reshape(-1, result.size)\n",
        "result"
      ],
      "execution_count": 82,
      "outputs": [
        {
          "output_type": "execute_result",
          "data": {
            "text/plain": [
              "array([[3.070e+02, 1.300e+02, 3.504e+03, 1.200e+01, 0.000e+00, 0.000e+00,\n",
              "        0.000e+00, 0.000e+00, 1.000e+00, 1.000e+00, 0.000e+00, 0.000e+00]])"
            ]
          },
          "metadata": {
            "tags": []
          },
          "execution_count": 82
        }
      ]
    },
    {
      "cell_type": "code",
      "metadata": {
        "id": "VcmIBS044I0A"
      },
      "source": [
        ""
      ],
      "execution_count": null,
      "outputs": []
    }
  ]
}