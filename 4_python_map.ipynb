{
  "nbformat": 4,
  "nbformat_minor": 0,
  "metadata": {
    "colab": {
      "name": "4_python_map.ipynb",
      "provenance": [],
      "authorship_tag": "ABX9TyP2H6n8i3ZqGxzsbFFyNNQg",
      "include_colab_link": true
    },
    "kernelspec": {
      "name": "python3",
      "display_name": "Python 3"
    },
    "language_info": {
      "name": "python"
    }
  },
  "cells": [
    {
      "cell_type": "markdown",
      "metadata": {
        "id": "view-in-github",
        "colab_type": "text"
      },
      "source": [
        "<a href=\"https://colab.research.google.com/github/ginttone/multi_python/blob/master/4_python_map.ipynb\" target=\"_parent\"><img src=\"https://colab.research.google.com/assets/colab-badge.svg\" alt=\"Open In Colab\"/></a>"
      ]
    },
    {
      "cell_type": "markdown",
      "metadata": {
        "id": "cDcHV4uxkAqm"
      },
      "source": [
        "## map\n",
        "\n",
        "map근본은 function이고, callback함수를 쓴다.\n",
        "callback함수는 funcstion을 parameter로 줄 수 있다. \n",
        "\n",
        "map은 이터레이터블 (for문으로 돌릴 수 있는 list,dictionary,tuple 들을 이야기함)한 것들을 사용한다.\n",
        "\n"
      ]
    },
    {
      "cell_type": "code",
      "metadata": {
        "id": "m7Tct1xIjteN"
      },
      "source": [
        "def calSquare(num):\n",
        "  result = num * num #면적구하는 공식\n",
        "  return result"
      ],
      "execution_count": 12,
      "outputs": []
    },
    {
      "cell_type": "code",
      "metadata": {
        "colab": {
          "base_uri": "https://localhost:8080/"
        },
        "id": "qLBDimVek98F",
        "outputId": "27db56af-ebad-486b-daf1-b7222e8f8d5c"
      },
      "source": [
        "numbers = (1,2)\n",
        "type(numbers)"
      ],
      "execution_count": 13,
      "outputs": [
        {
          "output_type": "execute_result",
          "data": {
            "text/plain": [
              "tuple"
            ]
          },
          "metadata": {
            "tags": []
          },
          "execution_count": 13
        }
      ]
    },
    {
      "cell_type": "code",
      "metadata": {
        "colab": {
          "base_uri": "https://localhost:8080/"
        },
        "id": "6ehLli1MlEhY",
        "outputId": "2ab56b24-a981-4b20-818e-724472afdf53"
      },
      "source": [
        "result = map(calSquare, numbers)\n",
        "print(set(result))"
      ],
      "execution_count": 14,
      "outputs": [
        {
          "output_type": "stream",
          "text": [
            "{1, 4}\n"
          ],
          "name": "stdout"
        }
      ]
    },
    {
      "cell_type": "code",
      "metadata": {
        "colab": {
          "base_uri": "https://localhost:8080/"
        },
        "id": "sVpQiaPFl0Zj",
        "outputId": "a164d7bd-a2fd-463f-e975-22935e93ab95"
      },
      "source": [
        "calSquare(1),calSquare(2)"
      ],
      "execution_count": 15,
      "outputs": [
        {
          "output_type": "execute_result",
          "data": {
            "text/plain": [
              "(1, 4)"
            ]
          },
          "metadata": {
            "tags": []
          },
          "execution_count": 15
        }
      ]
    },
    {
      "cell_type": "markdown",
      "metadata": {
        "id": "8-jhe7B5pqKv"
      },
      "source": [
        "(lambda이용해서 직관적으로 볼 수 있다)\n",
        "\n",
        "* parameter 값 2개이상 주는 방법\n",
        "\n",
        "* first 와 second의 합을 구하기"
      ]
    },
    {
      "cell_type": "code",
      "metadata": {
        "colab": {
          "base_uri": "https://localhost:8080/"
        },
        "id": "6yDzmIiqmajy",
        "outputId": "88376194-24f3-430e-bcab-50a3f3c2e263"
      },
      "source": [
        "calplus = (lambda first, second : first + second)\n",
        "type(calplus)"
      ],
      "execution_count": 16,
      "outputs": [
        {
          "output_type": "execute_result",
          "data": {
            "text/plain": [
              "function"
            ]
          },
          "metadata": {
            "tags": []
          },
          "execution_count": 16
        }
      ]
    },
    {
      "cell_type": "code",
      "metadata": {
        "colab": {
          "base_uri": "https://localhost:8080/"
        },
        "id": "MG4etRdKqaQT",
        "outputId": "a2d1bfcc-db29-40bf-a205-0116d9bbb341"
      },
      "source": [
        "number01 = [1,2,3]\n",
        "number02 = [4,5,6]\n",
        "type(number01), type(number02)"
      ],
      "execution_count": 18,
      "outputs": [
        {
          "output_type": "execute_result",
          "data": {
            "text/plain": [
              "(list, list)"
            ]
          },
          "metadata": {
            "tags": []
          },
          "execution_count": 18
        }
      ]
    },
    {
      "cell_type": "markdown",
      "metadata": {
        "id": "UkWBOhftrKnk"
      },
      "source": [
        "calplus(number01[0],number02[0])<br>\n",
        "calplus(number01[1],number02[1])<br>\n",
        "calplus(number01[2],number02[2])\n",
        "\n",
        "map이 내부적으로 for문 돌려가며 단순하게 return값을 뽑아낸다"
      ]
    },
    {
      "cell_type": "code",
      "metadata": {
        "colab": {
          "base_uri": "https://localhost:8080/"
        },
        "id": "N3020Wg9qyAz",
        "outputId": "8494ed4c-0d34-4bc5-d0a6-158444c6ca0b"
      },
      "source": [
        "result= map(calplus,number01,number02)\n",
        "list(result)"
      ],
      "execution_count": 19,
      "outputs": [
        {
          "output_type": "execute_result",
          "data": {
            "text/plain": [
              "[5, 7, 9]"
            ]
          },
          "metadata": {
            "tags": []
          },
          "execution_count": 19
        }
      ]
    },
    {
      "cell_type": "code",
      "metadata": {
        "id": "c0wutrbUr8YU"
      },
      "source": [
        "#calplus = (lambda first컬럼, second컬럼 : first + second)"
      ],
      "execution_count": 20,
      "outputs": []
    },
    {
      "cell_type": "code",
      "metadata": {
        "id": "GXVnqdTHsqTJ"
      },
      "source": [
        ""
      ],
      "execution_count": null,
      "outputs": []
    }
  ]
}