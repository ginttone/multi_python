{
  "nbformat": 4,
  "nbformat_minor": 0,
  "metadata": {
    "colab": {
      "name": "4_python_lambda.ipynb",
      "provenance": [],
      "authorship_tag": "ABX9TyPhFQNjVnYEgJ1SKm8qnq6H",
      "include_colab_link": true
    },
    "kernelspec": {
      "name": "python3",
      "display_name": "Python 3"
    },
    "language_info": {
      "name": "python"
    }
  },
  "cells": [
    {
      "cell_type": "markdown",
      "metadata": {
        "id": "view-in-github",
        "colab_type": "text"
      },
      "source": [
        "<a href=\"https://colab.research.google.com/github/ginttone/multi_python/blob/master/4_python_lambda.ipynb\" target=\"_parent\"><img src=\"https://colab.research.google.com/assets/colab-badge.svg\" alt=\"Open In Colab\"/></a>"
      ]
    },
    {
      "cell_type": "markdown",
      "metadata": {
        "id": "UgnsU3uydUS3"
      },
      "source": [
        "## lambda \n",
        "[python function 나열](https://docs.python.org/3/library/functions.html)\n",
        "\n",
        "lambda는 function 을 shotcut한 거(빠른길로가게)"
      ]
    },
    {
      "cell_type": "code",
      "metadata": {
        "colab": {
          "base_uri": "https://localhost:8080/"
        },
        "id": "zXc-8bkcctHr",
        "outputId": "a8befebc-b42f-4edb-d35c-71c34224a5a7"
      },
      "source": [
        "(lambda first: first+20)(10)"
      ],
      "execution_count": 1,
      "outputs": [
        {
          "output_type": "execute_result",
          "data": {
            "text/plain": [
              "30"
            ]
          },
          "metadata": {
            "tags": []
          },
          "execution_count": 1
        }
      ]
    },
    {
      "cell_type": "code",
      "metadata": {
        "id": "0yaSAi2sfz85"
      },
      "source": [
        "def plus(first01) :\n",
        "  return first01 + 20\n",
        "  # result = first01 + 20\n",
        "  # return result"
      ],
      "execution_count": 8,
      "outputs": []
    },
    {
      "cell_type": "code",
      "metadata": {
        "colab": {
          "base_uri": "https://localhost:8080/"
        },
        "id": "e9baehplgKLD",
        "outputId": "f20846fe-0a18-4300-c95f-43d648afd285"
      },
      "source": [
        "plus(10)"
      ],
      "execution_count": 9,
      "outputs": [
        {
          "output_type": "execute_result",
          "data": {
            "text/plain": [
              "30"
            ]
          },
          "metadata": {
            "tags": []
          },
          "execution_count": 9
        }
      ]
    },
    {
      "cell_type": "code",
      "metadata": {
        "colab": {
          "base_uri": "https://localhost:8080/"
        },
        "id": "X148QCnRjHI_",
        "outputId": "f22d3468-43c4-461b-bfad-5b85be13001c"
      },
      "source": [
        "(lambda first,second: first * second +20)(10,3)"
      ],
      "execution_count": 10,
      "outputs": [
        {
          "output_type": "execute_result",
          "data": {
            "text/plain": [
              "50"
            ]
          },
          "metadata": {
            "tags": []
          },
          "execution_count": 10
        }
      ]
    },
    {
      "cell_type": "code",
      "metadata": {
        "id": "bKSp8hHljHYC"
      },
      "source": [
        "def plus(first01,second02) :\n",
        "  return first01*second02 + 20"
      ],
      "execution_count": 18,
      "outputs": []
    },
    {
      "cell_type": "code",
      "metadata": {
        "colab": {
          "base_uri": "https://localhost:8080/"
        },
        "id": "YS1la31KjHlY",
        "outputId": "85537e62-6196-41db-849b-b960775c18f4"
      },
      "source": [
        "plus(10,3)"
      ],
      "execution_count": 19,
      "outputs": [
        {
          "output_type": "execute_result",
          "data": {
            "text/plain": [
              "50"
            ]
          },
          "metadata": {
            "tags": []
          },
          "execution_count": 19
        }
      ]
    },
    {
      "cell_type": "markdown",
      "metadata": {
        "id": "xTqCObXFhJy7"
      },
      "source": [
        "lambda를 plus_02변수화시켜 function처럼 사용 할 수 있다"
      ]
    },
    {
      "cell_type": "code",
      "metadata": {
        "id": "i3FfHNBxgdJ4"
      },
      "source": [
        "plus_02=(lambda first: first + 20)"
      ],
      "execution_count": 5,
      "outputs": []
    },
    {
      "cell_type": "code",
      "metadata": {
        "colab": {
          "base_uri": "https://localhost:8080/"
        },
        "id": "AP0Sy_I4hhmE",
        "outputId": "d2795c01-b756-4d34-e0d2-fbecea1eba1a"
      },
      "source": [
        "type(plus_02)"
      ],
      "execution_count": 6,
      "outputs": [
        {
          "output_type": "execute_result",
          "data": {
            "text/plain": [
              "function"
            ]
          },
          "metadata": {
            "tags": []
          },
          "execution_count": 6
        }
      ]
    },
    {
      "cell_type": "code",
      "metadata": {
        "colab": {
          "base_uri": "https://localhost:8080/"
        },
        "id": "NBPSNmukhqoD",
        "outputId": "8ca7d3e2-e6d2-4ff9-9072-c858e5376c71"
      },
      "source": [
        "plus_02(10)"
      ],
      "execution_count": 7,
      "outputs": [
        {
          "output_type": "execute_result",
          "data": {
            "text/plain": [
              "30"
            ]
          },
          "metadata": {
            "tags": []
          },
          "execution_count": 7
        }
      ]
    },
    {
      "cell_type": "code",
      "metadata": {
        "id": "rmpv-WJRiFSB"
      },
      "source": [
        ""
      ],
      "execution_count": null,
      "outputs": []
    }
  ]
}